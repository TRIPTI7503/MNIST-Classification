{
  "nbformat": 4,
  "nbformat_minor": 0,
  "metadata": {
    "colab": {
      "provenance": []
    },
    "kernelspec": {
      "name": "python3",
      "display_name": "Python 3"
    },
    "language_info": {
      "name": "python"
    }
  },
  "cells": [
    {
      "cell_type": "markdown",
      "source": [
        "**Import the Relevant Libraries**"
      ],
      "metadata": {
        "id": "sHkhjrlPZoCY"
      }
    },
    {
      "cell_type": "code",
      "execution_count": 2,
      "metadata": {
        "id": "R7JdBK6dvPCt"
      },
      "outputs": [],
      "source": [
        "import numpy as np\n",
        "import tensorflow as tf\n",
        "\n",
        "import tensorflow_datasets as tfds"
      ]
    },
    {
      "cell_type": "markdown",
      "source": [
        "**Data**"
      ],
      "metadata": {
        "id": "oEXe-7MPZ1_e"
      }
    },
    {
      "cell_type": "code",
      "source": [
        "mnist_dataset, mnist_info = tfds.load(name='mnist',with_info=True, as_supervised=True)"
      ],
      "metadata": {
        "id": "x9bA3GivviAf"
      },
      "execution_count": 3,
      "outputs": []
    },
    {
      "cell_type": "markdown",
      "source": [
        "**Data Preprocessing**"
      ],
      "metadata": {
        "id": "MM_1HZznZ9Kk"
      }
    },
    {
      "cell_type": "code",
      "source": [
        "mnist_train, mnist_test = mnist_dataset['train'], mnist_dataset['test']\n",
        "\n",
        "num_validation_samples = 0.1 * mnist_info.splits['train'].num_examples\n",
        "num_validation_samples = tf. cast(num_validation_samples, tf.int64)\n",
        "\n",
        "num_test_samples =  mnist_info.splits['test'].num_examples\n",
        "num_test_samples = tf. cast(num_test_samples, tf.int64)\n",
        "\n",
        "def scale(image, label):\n",
        "  image = tf.cast(image,tf.float32)\n",
        "  image /= 255.\n",
        "  return image, label\n",
        "\n",
        "scaled_train_and_validation_data = mnist_train.map(scale)\n",
        "\n",
        "test_data = mnist_test.map(scale)\n",
        "\n",
        "buffer_size = 10000\n",
        "\n",
        "shuffled_train_and_validation_data = scaled_train_and_validation_data.shuffle(buffer_size)\n",
        "validation_data = shuffled_train_and_validation_data.take(num_validation_samples)\n",
        "train_data = shuffled_train_and_validation_data.skip(num_validation_samples)\n",
        "\n",
        "batch_size = 150\n",
        "\n",
        "train_data = train_data.batch(batch_size)\n",
        "validation_data = validation_data.batch(num_validation_samples)\n",
        "test_data = test_data.batch(num_test_samples)\n",
        "\n",
        "validation_inputs, validation_targets = next(iter(validation_data))"
      ],
      "metadata": {
        "id": "Y5gZirXWvxd5"
      },
      "execution_count": 4,
      "outputs": []
    },
    {
      "cell_type": "code",
      "source": [
        "input_size = 784\n",
        "output_size = 10\n",
        "hidden_layer_size = 1000\n",
        "\n",
        "model = tf.keras.Sequential([\n",
        "    tf.keras.layers.Flatten(input_shape=(28,28,1)),\n",
        "    tf.keras.layers.Dense(hidden_layer_size, activation='relu'),\n",
        "    tf.keras.layers.Dense(hidden_layer_size, activation='relu'),\n",
        "    tf.keras.layers.Dense(hidden_layer_size, activation='relu'),\n",
        "    tf.keras.layers.Dense(output_size, activation='softmax')\n",
        "    ]) "
      ],
      "metadata": {
        "id": "sOvyyo-IM6oD"
      },
      "execution_count": 5,
      "outputs": []
    },
    {
      "cell_type": "markdown",
      "source": [
        "**Choose the optimizer and the loss function**"
      ],
      "metadata": {
        "id": "gFCKAbc5PU7q"
      }
    },
    {
      "cell_type": "code",
      "source": [
        "model.compile(optimizer='adam', loss='sparse_categorical_crossentropy',metrics=['accuracy'])"
      ],
      "metadata": {
        "id": "ZnsJC_zzPKXj"
      },
      "execution_count": 6,
      "outputs": []
    },
    {
      "cell_type": "markdown",
      "source": [
        "**Training**"
      ],
      "metadata": {
        "id": "Vdqh_3q2YcL5"
      }
    },
    {
      "cell_type": "code",
      "source": [
        "num_epochs = 10\n",
        "\n",
        "model.fit(train_data, epochs = num_epochs, validation_data = (validation_inputs, validation_targets), verbose = 2)"
      ],
      "metadata": {
        "colab": {
          "base_uri": "https://localhost:8080/"
        },
        "id": "Af3KS1owP1Ie",
        "outputId": "ccd38494-6068-4c8d-ba8f-168439475aaf"
      },
      "execution_count": 7,
      "outputs": [
        {
          "output_type": "stream",
          "name": "stdout",
          "text": [
            "Epoch 1/10\n",
            "360/360 - 30s - loss: 0.2107 - accuracy: 0.9355 - val_loss: 0.0964 - val_accuracy: 0.9720 - 30s/epoch - 84ms/step\n",
            "Epoch 2/10\n",
            "360/360 - 26s - loss: 0.0838 - accuracy: 0.9739 - val_loss: 0.0763 - val_accuracy: 0.9763 - 26s/epoch - 72ms/step\n",
            "Epoch 3/10\n",
            "360/360 - 28s - loss: 0.0571 - accuracy: 0.9825 - val_loss: 0.0578 - val_accuracy: 0.9828 - 28s/epoch - 78ms/step\n",
            "Epoch 4/10\n",
            "360/360 - 25s - loss: 0.0450 - accuracy: 0.9857 - val_loss: 0.0510 - val_accuracy: 0.9855 - 25s/epoch - 70ms/step\n",
            "Epoch 5/10\n",
            "360/360 - 25s - loss: 0.0366 - accuracy: 0.9887 - val_loss: 0.0451 - val_accuracy: 0.9858 - 25s/epoch - 70ms/step\n",
            "Epoch 6/10\n",
            "360/360 - 25s - loss: 0.0332 - accuracy: 0.9897 - val_loss: 0.0492 - val_accuracy: 0.9855 - 25s/epoch - 69ms/step\n",
            "Epoch 7/10\n",
            "360/360 - 25s - loss: 0.0263 - accuracy: 0.9917 - val_loss: 0.0346 - val_accuracy: 0.9893 - 25s/epoch - 70ms/step\n",
            "Epoch 8/10\n",
            "360/360 - 25s - loss: 0.0221 - accuracy: 0.9930 - val_loss: 0.0363 - val_accuracy: 0.9885 - 25s/epoch - 69ms/step\n",
            "Epoch 9/10\n",
            "360/360 - 25s - loss: 0.0238 - accuracy: 0.9925 - val_loss: 0.0331 - val_accuracy: 0.9890 - 25s/epoch - 69ms/step\n",
            "Epoch 10/10\n",
            "360/360 - 25s - loss: 0.0178 - accuracy: 0.9946 - val_loss: 0.0244 - val_accuracy: 0.9912 - 25s/epoch - 69ms/step\n"
          ]
        },
        {
          "output_type": "execute_result",
          "data": {
            "text/plain": [
              "<keras.callbacks.History at 0x7f8d7c3251e0>"
            ]
          },
          "metadata": {},
          "execution_count": 7
        }
      ]
    },
    {
      "cell_type": "markdown",
      "source": [
        "**Test the Model**"
      ],
      "metadata": {
        "id": "ylqZvqSh84ux"
      }
    },
    {
      "cell_type": "code",
      "source": [
        "test_loss, test_accuracy = model.evaluate(test_data)"
      ],
      "metadata": {
        "colab": {
          "base_uri": "https://localhost:8080/"
        },
        "id": "25-8p5VRZBSa",
        "outputId": "8bd5e73e-9ba1-4139-e1cc-8ec16b76b3cf"
      },
      "execution_count": 9,
      "outputs": [
        {
          "output_type": "stream",
          "name": "stdout",
          "text": [
            "1/1 [==============================] - 2s 2s/step - loss: 0.0918 - accuracy: 0.9798\n"
          ]
        }
      ]
    },
    {
      "cell_type": "code",
      "source": [
        "print('Test Loss: {0:.2f}. Test Accuracy: {1:.2f}%'.format(test_loss, test_accuracy*100))"
      ],
      "metadata": {
        "colab": {
          "base_uri": "https://localhost:8080/"
        },
        "id": "pz5I8qqb_ule",
        "outputId": "c00a251f-fb79-470a-d70e-3e4338ca5c4a"
      },
      "execution_count": 15,
      "outputs": [
        {
          "output_type": "stream",
          "name": "stdout",
          "text": [
            "Test Loss: 0.09. Test Accuracy: 97.98%\n"
          ]
        }
      ]
    }
  ]
}